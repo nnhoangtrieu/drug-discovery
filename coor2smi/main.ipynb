{
 "cells": [
  {
   "cell_type": "code",
   "execution_count": 8,
   "metadata": {},
   "outputs": [],
   "source": [
    "DIM_MODEL = 128\n",
    "NUM_HEAD = 4\n",
    "DROPOUT = 0.5\n",
    "\n",
    "BATCH_SIZE = 16\n",
    "NUM_EPOCHS = 100\n",
    "TEACHER_FORCING_RATE = 0.0\n",
    "LEARNING_RATE = 0.001\n",
    "PATIENCE_THRESHOLD = 4\n",
    "\n",
    "SMILES_PATH = '../data/ADAGRASIB_SMILES.txt'\n",
    "COORDINATE_PATH = '../data/ADAGRASIB_COOR.sdf'\n",
    "\n",
    "ENCODER_PATH = './trained-model/Encoder-D128-H4-DROPOUT0.5.pth'\n",
    "DECODER_PATH = './trained-model/Decoder-D128-H4-DROPOUT0.5.pth'"
   ]
  },
  {
   "cell_type": "code",
   "execution_count": 9,
   "metadata": {},
   "outputs": [],
   "source": [
    "from torch.utils.data import Dataset, DataLoader \n",
    "import warnings\n",
    "warnings.filterwarnings(\"ignore\", category=UserWarning)\n",
    "warnings.filterwarnings(\"ignore\")\n",
    "import utils\n",
    "from utils import *\n",
    "from model import * "
   ]
  },
  {
   "cell_type": "code",
   "execution_count": 10,
   "metadata": {},
   "outputs": [],
   "source": [
    "smi_list = get_smi(SMILES_PATH)\n",
    "longest_smi = get_longest(smi_list)\n",
    "smi_dic = get_dic(smi_list)\n",
    "inv_smi_dic = {value:key for key, value in smi_dic.items()}\n",
    "smint_list = [smi2int(smi, smi_dic, longest_smi) for smi in smi_list]\n",
    "\n",
    "\n",
    "coor_list = get_coor(COORDINATE_PATH)\n",
    "longest_coor = get_longest(coor_list)\n",
    "np_coor_list = pad_coor(normalize_coor(coor_list), longest_coor)"
   ]
  },
  {
   "cell_type": "code",
   "execution_count": 11,
   "metadata": {},
   "outputs": [],
   "source": [
    "encoder = Encoder(DIM_MODEL, NUM_HEAD, DROPOUT).to(device)\n",
    "decoder = Decoder(DIM_MODEL, NUM_HEAD, len(smi_dic),longest_smi, DROPOUT).to(device)"
   ]
  },
  {
   "cell_type": "code",
   "execution_count": 12,
   "metadata": {},
   "outputs": [
    {
     "data": {
      "text/plain": [
       "<All keys matched successfully>"
      ]
     },
     "execution_count": 12,
     "metadata": {},
     "output_type": "execute_result"
    }
   ],
   "source": [
    "encoder.load_state_dict(torch.load(ENCODER_PATH))\n",
    "decoder.load_state_dict(torch.load(DECODER_PATH))"
   ]
  },
  {
   "cell_type": "code",
   "execution_count": 13,
   "metadata": {},
   "outputs": [
    {
     "name": "stdout",
     "output_type": "stream",
     "text": [
      "Target SMILES: O=C(/C(=C\\C(=O)O)/C)Nc1ccc(cc1)X\n",
      "Predicted SMILES: +\\+HBaPPClBa==Nacc#HO=cBa1CBa1#PHP]ClClBacBr1S\n"
     ]
    }
   ],
   "source": [
    "r = random.randint(0, len(smi_list))\n",
    "out = evaluate(r, encoder, decoder, inv_smi_dic, smi_list,np_coor_list)"
   ]
  },
  {
   "cell_type": "code",
   "execution_count": null,
   "metadata": {},
   "outputs": [],
   "source": []
  }
 ],
 "metadata": {
  "kernelspec": {
   "display_name": "Python 3",
   "language": "python",
   "name": "python3"
  },
  "language_info": {
   "codemirror_mode": {
    "name": "ipython",
    "version": 3
   },
   "file_extension": ".py",
   "mimetype": "text/x-python",
   "name": "python",
   "nbconvert_exporter": "python",
   "pygments_lexer": "ipython3",
   "version": "3.11.4"
  }
 },
 "nbformat": 4,
 "nbformat_minor": 2
}
