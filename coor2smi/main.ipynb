{
 "cells": [
  {
   "cell_type": "code",
   "execution_count": 13,
   "metadata": {},
   "outputs": [],
   "source": [
    "DIM_MODEL = 128\n",
    "NUM_HEAD = 4\n",
    "DROPOUT = 0.5\n",
    "\n",
    "BATCH_SIZE = 16\n",
    "NUM_EPOCHS = 100\n",
    "TEACHER_FORCING_RATE = 0.0\n",
    "LEARNING_RATE = 0.001\n",
    "PATIENCE_THRESHOLD = 4\n",
    "\n",
    "SMILES_PATH = '../data/ADAGRASIB_SMILES.txt'\n",
    "COORDINATE_PATH = '../data/ADAGRASIB_COOR.sdf'\n",
    "\n",
    "ENCODER_PATH = './trained-model/Encoder-D128-H4-DROPOUT0.5-WEIGHTADJUST.pth'\n",
    "DECODER_PATH = './trained-model/Decoder-D128-H4-DROPOUT0.5-WEIGHTADJUST.pth'"
   ]
  },
  {
   "cell_type": "code",
   "execution_count": 14,
   "metadata": {},
   "outputs": [],
   "source": [
    "from torch.utils.data import Dataset, DataLoader \n",
    "import warnings\n",
    "warnings.filterwarnings(\"ignore\", category=UserWarning)\n",
    "warnings.filterwarnings(\"ignore\")\n",
    "import utils\n",
    "from utils import *\n",
    "from model import * "
   ]
  },
  {
   "cell_type": "code",
   "execution_count": 15,
   "metadata": {},
   "outputs": [],
   "source": [
    "smi_list = get_smi(SMILES_PATH)\n",
    "longest_smi = get_longest(smi_list)\n",
    "smi_dic = get_dic(smi_list)\n",
    "inv_smi_dic = {value:key for key, value in smi_dic.items()}\n",
    "smint_list = [smi2int(smi, smi_dic, longest_smi) for smi in smi_list]\n",
    "\n",
    "\n",
    "coor_list = get_coor(COORDINATE_PATH)\n",
    "longest_coor = get_longest(coor_list)\n",
    "np_coor_list = pad_coor(normalize_coor(coor_list), longest_coor)"
   ]
  },
  {
   "cell_type": "code",
   "execution_count": 16,
   "metadata": {},
   "outputs": [],
   "source": [
    "encoder = Encoder(DIM_MODEL, NUM_HEAD, DROPOUT).to(device)\n",
    "decoder = Decoder(DIM_MODEL, NUM_HEAD, len(smi_dic),longest_smi, DROPOUT).to(device)"
   ]
  },
  {
   "cell_type": "code",
   "execution_count": 17,
   "metadata": {},
   "outputs": [
    {
     "data": {
      "text/plain": [
       "<All keys matched successfully>"
      ]
     },
     "execution_count": 17,
     "metadata": {},
     "output_type": "execute_result"
    }
   ],
   "source": [
    "encoder.load_state_dict(torch.load(ENCODER_PATH))\n",
    "decoder.load_state_dict(torch.load(DECODER_PATH))"
   ]
  },
  {
   "cell_type": "code",
   "execution_count": 29,
   "metadata": {},
   "outputs": [
    {
     "name": "stdout",
     "output_type": "stream",
     "text": [
      "Target SMILES: N#CC1=C(SC)NC(=O)CC1c1ccccc1X\n",
      "Input Coordinate: tensor([[[ 0.0000,  0.0000,  0.0000],\n",
      "         [ 0.0200,  1.1000,  0.2900],\n",
      "         [ 0.0500,  2.4800,  0.6600],\n",
      "         [ 1.1600,  3.2300,  0.3800],\n",
      "         [ 2.5400,  2.5000, -0.4200],\n",
      "         [ 3.6500,  3.9200, -0.5100],\n",
      "         [ 1.2000,  4.5700,  0.7300],\n",
      "         [ 0.3500,  5.0700,  1.6500],\n",
      "         [ 0.4000,  6.2400,  1.9400],\n",
      "         [-0.6500,  4.1700,  2.3300],\n",
      "         [-1.1400,  3.1100,  1.3300],\n",
      "         [-2.0300,  3.7500,  0.3100],\n",
      "         [-1.5500,  4.7600, -0.5000],\n",
      "         [-2.3700,  5.3500, -1.4400],\n",
      "         [-3.6800,  4.9200, -1.5800],\n",
      "         [-4.1700,  3.9100, -0.7700],\n",
      "         [-3.3400,  3.3200,  0.1700],\n",
      "         [-3.9500,  2.0500,  1.1800],\n",
      "         [ 0.0000,  0.0000,  0.0000],\n",
      "         [ 0.0000,  0.0000,  0.0000],\n",
      "         [ 0.0000,  0.0000,  0.0000],\n",
      "         [ 0.0000,  0.0000,  0.0000]]])\n",
      "Predicted SMILES: N#1c1cc(ccccccccccccccccccc))E\n"
     ]
    }
   ],
   "source": [
    "r = random.randint(0, len(smi_list))\n",
    "out = evaluate(r, encoder, decoder, inv_smi_dic, smi_list,np_coor_list)"
   ]
  },
  {
   "cell_type": "code",
   "execution_count": null,
   "metadata": {},
   "outputs": [],
   "source": []
  }
 ],
 "metadata": {
  "kernelspec": {
   "display_name": "Python 3",
   "language": "python",
   "name": "python3"
  },
  "language_info": {
   "codemirror_mode": {
    "name": "ipython",
    "version": 3
   },
   "file_extension": ".py",
   "mimetype": "text/x-python",
   "name": "python",
   "nbconvert_exporter": "python",
   "pygments_lexer": "ipython3",
   "version": "3.11.4"
  }
 },
 "nbformat": 4,
 "nbformat_minor": 2
}
