{
 "cells": [
  {
   "cell_type": "code",
   "execution_count": 257,
   "metadata": {},
   "outputs": [],
   "source": [
    "import os\n",
    "import pandas as pd \n",
    "import numpy as np \n",
    "import rdkit \n",
    "import torch\n",
    "import torch.nn as nn \n",
    "import torch.nn.functional as F \n",
    "import torch_geometric\n",
    "from torch_geometric.data import Dataset, Data\n",
    "from torch_geometric.loader import DataLoader\n",
    "from torch_geometric.nn import global_mean_pool, GATConv, GCNConv\n",
    "from tqdm import tqdm "
   ]
  },
  {
   "cell_type": "code",
   "execution_count": 280,
   "metadata": {},
   "outputs": [],
   "source": [
    "def count_atoms(smi):\n",
    "    mol = rdkit.Chem.MolFromSmiles(smi)\n",
    "    if mol is not None:\n",
    "        num_atoms = mol.GetNumAtoms()\n",
    "        return num_atoms\n",
    "    else:\n",
    "        print(\"Error: Unable to parse SMILES string.\")\n",
    "        return None\n",
    "    \n",
    "def get_atom_dic(smi_list) :\n",
    "    atom_dic = {}\n",
    "    i = 0\n",
    "    for smi in smi_list :\n",
    "        mol = rdkit.Chem.MolFromSmiles(smi)\n",
    "        for atom in mol.GetAtoms() :\n",
    "            atom = atom.GetSymbol()\n",
    "            if atom not in atom_dic :\n",
    "                atom_dic[atom] = i \n",
    "                i += 1\n",
    "    \n",
    "    return atom_dic"
   ]
  },
  {
   "cell_type": "code",
   "execution_count": 337,
   "metadata": {},
   "outputs": [],
   "source": [
    "class SMILES2CoorDataset(Dataset) :\n",
    "    def __init__(self, root, filename, transform = None, pre_transform = None) :\n",
    "        self.filename = filename\n",
    "        super(SMILES2CoorDataset, self).__init__(root, transform, pre_transform)\n",
    "\n",
    "\n",
    "    @property \n",
    "    def raw_file_names(self) :\n",
    "        return self.filename\n",
    "    \n",
    "    @property\n",
    "    def processed_file_names(self) :\n",
    "        self.smi_list = self.read_txt(self.raw_paths[0])\n",
    "        return [f'data_{i}.pt' for i in range(len(self.smi_list))]\n",
    "    \n",
    "    def download(self) : pass \n",
    "\n",
    "    def process(self) :\n",
    "        \n",
    "        smi_list = self.read_txt(self.raw_paths[0])\n",
    "        coor_list = self._get_coor(self.raw_paths[1])\n",
    "        # self.atom_dic = get_atom_dic(smi_list)\n",
    "        longest_coor = self.get_longest(coor_list)\n",
    "        np_coor_list = self.pad_coor(self.normalize_coor(coor_list), longest_coor)\n",
    "\n",
    "        for index, smi in enumerate(tqdm(smi_list, total=len(smi_list))) :\n",
    "            if count_atoms(smi) != len(coor_list[index]) :\n",
    "                smi = smi_list[index - 69]\n",
    "                label = torch.tensor(np_coor_list[index - 69]).unsqueeze(0)\n",
    "            else :\n",
    "                label = torch.tensor(np_coor_list[index]).unsqueeze(0)\n",
    "\n",
    "\n",
    "            mol_obj = rdkit.Chem.MolFromSmiles(smi)\n",
    "\n",
    "            node_features = self._get_node_features(mol_obj)\n",
    "            edge_features = self._get_edge_features(mol_obj)\n",
    "            edge_index = self._get_edge_index(mol_obj)\n",
    "\n",
    "            # assert node_features.size(0) == label.size(0), \"Different size\"\n",
    "                \n",
    "            data = Data(x=node_features,\n",
    "                        edge_index=edge_index,\n",
    "                        edge_attr=edge_features,\n",
    "                        y=label,\n",
    "                        smiles=smi,\n",
    "                        )\n",
    "            \n",
    "            torch.save(data, os.path.join(self.processed_dir, f'data_{index}.pt'))\n",
    "\n",
    "\n",
    "    def _get_coor(self, coor_path) :\n",
    "        coor_list = []\n",
    "        supplier = rdkit.Chem.SDMolSupplier(coor_path)\n",
    "        for mol in supplier:\n",
    "            coor = []\n",
    "            if mol is not None:\n",
    "                conformer = mol.GetConformer()\n",
    "                for atom in mol.GetAtoms():\n",
    "                    atom_idx = atom.GetIdx()\n",
    "                    x, y, z = conformer.GetAtomPosition(atom_idx)\n",
    "                    coor_atom = list((x,y,z))\n",
    "                    coor.append(coor_atom)\n",
    "            coor_list.append(coor)\n",
    "\n",
    "        # Replace invalid idx\n",
    "        for i, coor in enumerate(coor_list):\n",
    "            \n",
    "            if len(coor) == 0 :\n",
    "                if i == 0 :\n",
    "                    coor_list = coor_list[1:]\n",
    "                coor_list[i] = coor_list[i-1]\n",
    "        return coor_list\n",
    "    \n",
    "    def normalize_coor(self, coor_list) :\n",
    "        n_coor_list = []\n",
    "\n",
    "        for mol_coor in coor_list :\n",
    "            n_mol_coor = []\n",
    "\n",
    "            x_origin, y_origin, z_origin = mol_coor[0]\n",
    "\n",
    "            for atom_coor in mol_coor :\n",
    "                n_atom_coor = [round(atom_coor[0] - x_origin, 2), \n",
    "                            round(atom_coor[1] - y_origin, 2), \n",
    "                            round(atom_coor[2] - z_origin, 2)]\n",
    "                n_mol_coor.append(n_atom_coor)\n",
    "            n_coor_list.append(n_mol_coor)\n",
    "        return n_coor_list\n",
    "\n",
    "    def pad_coor(self, coor_list, longest_coor) :\n",
    "        p_coor_list = []\n",
    "\n",
    "        for i in coor_list :\n",
    "            if len(i) < longest_coor :\n",
    "                zeros = [[0,0,0]] * (longest_coor - len(i))\n",
    "                zeros = torch.tensor(zeros)\n",
    "                i = torch.tensor(i)\n",
    "                i = torch.cat((i, zeros), dim = 0)\n",
    "                p_coor_list.append(i)\n",
    "            else :\n",
    "                p_coor_list.append(i)\n",
    "        return p_coor_list\n",
    "\n",
    "    def get_longest(self, input_list) :\n",
    "        longest = 0\n",
    "        for i in input_list :\n",
    "            if len(i) > longest :\n",
    "                longest = len(i)\n",
    "        return longest\n",
    "    \n",
    "    def read_txt(self, path) :\n",
    "        with open(path, 'r') as file :\n",
    "            contents = file.readlines()\n",
    "        contents = [content[:-1] for content in contents]\n",
    "        return contents\n",
    "    \n",
    "    def _get_node_features(self, mol) :\n",
    "        all_node_feats = [] \n",
    "\n",
    "        for atom in mol.GetAtoms() :\n",
    "            node_feats = []\n",
    "            node_feats.append(atom.GetAtomicNum())\n",
    "            node_feats.append(atom.GetDegree())\n",
    "            node_feats.append(atom.GetFormalCharge())\n",
    "            node_feats.append(atom.GetHybridization())\n",
    "            node_feats.append(atom.GetIsAromatic())\n",
    "            node_feats.append(atom.GetTotalNumHs())\n",
    "            node_feats.append(atom.GetNumRadicalElectrons())\n",
    "            node_feats.append(atom.IsInRing())\n",
    "            node_feats.append(atom.GetChiralTag())\n",
    "\n",
    "            all_node_feats.append(node_feats)\n",
    "\n",
    "        all_node_feats = np.asarray(all_node_feats)\n",
    "        return torch.tensor(all_node_feats, dtype=torch.float)\n",
    "\n",
    "    def _get_edge_features(self, mol) :\n",
    "        all_edge_feats = [] \n",
    "\n",
    "        for bond in mol.GetBonds() :\n",
    "            edge_feats = []\n",
    "\n",
    "            edge_feats.append(bond.GetBondTypeAsDouble())\n",
    "            edge_feats.append(bond.IsInRing())\n",
    "\n",
    "            all_edge_feats += [edge_feats, edge_feats]\n",
    "\n",
    "\n",
    "        all_edge_feats = np.asarray(all_edge_feats)\n",
    "        return torch.tensor(all_edge_feats, dtype=torch.float)\n",
    "    \n",
    "    def _get_edge_index(self, mol) :\n",
    "        edge_indices, begin, end = [], [], []\n",
    "\n",
    "        for bond in mol.GetBonds() :\n",
    "            i = bond.GetBeginAtomIdx()\n",
    "            j = bond.GetEndAtomIdx() \n",
    "            begin.append(i), begin.append(j)\n",
    "            end.append(i), end.append(j)\n",
    "        edge_indices.append(begin), edge_indices.append(end)\n",
    "\n",
    "        return torch.tensor(edge_indices)\n",
    "    \n",
    "    \n",
    "    def len(self) :\n",
    "        return len(self.smi_list)\n",
    "    \n",
    "    def get(self, idx) :\n",
    "        data = torch.load(os.path.join(self.processed_dir, f'data_{idx}.pt'))\n",
    "        return data"
   ]
  },
  {
   "cell_type": "code",
   "execution_count": 338,
   "metadata": {},
   "outputs": [
    {
     "name": "stderr",
     "output_type": "stream",
     "text": [
      "Processing...\n",
      "  0%|          | 0/4255 [00:00<?, ?it/s]C:\\Users\\DELL\\AppData\\Local\\Temp\\ipykernel_17860\\3342343876.py:31: UserWarning: To copy construct from a tensor, it is recommended to use sourceTensor.clone().detach() or sourceTensor.clone().detach().requires_grad_(True), rather than torch.tensor(sourceTensor).\n",
      "  label = torch.tensor(np_coor_list[index]).unsqueeze(0)\n",
      " 13%|█▎        | 533/4255 [00:00<00:03, 1047.10it/s]C:\\Users\\DELL\\AppData\\Local\\Temp\\ipykernel_17860\\3342343876.py:29: UserWarning: To copy construct from a tensor, it is recommended to use sourceTensor.clone().detach() or sourceTensor.clone().detach().requires_grad_(True), rather than torch.tensor(sourceTensor).\n",
      "  label = torch.tensor(np_coor_list[index - 69]).unsqueeze(0)\n",
      "100%|██████████| 4255/4255 [00:04<00:00, 958.28it/s] \n",
      "Done!\n"
     ]
    }
   ],
   "source": [
    "train_data = SMILES2CoorDataset(root='data', filename=['ADAGRASIB_SMILES.txt', \"ADAGRASIB_COOR.sdf\"])\n",
    "train_loader = DataLoader(train_data, batch_size=16, shuffle=True)"
   ]
  },
  {
   "cell_type": "code",
   "execution_count": 404,
   "metadata": {},
   "outputs": [
    {
     "name": "stdout",
     "output_type": "stream",
     "text": [
      "DataBatch(x=[293, 9], edge_index=[2, 612], edge_attr=[612, 2], y=[16, 22, 3], smiles=[16], batch=[293], ptr=[17])\n"
     ]
    }
   ],
   "source": [
    "a = 0 \n",
    "for i in train_loader :\n",
    "    a = i\n",
    "    # ele, count = np.unique(i.batch.numpy(), return_counts=True)\n",
    "    print(i)\n",
    "\n",
    "    break"
   ]
  },
  {
   "cell_type": "code",
   "execution_count": 405,
   "metadata": {},
   "outputs": [
    {
     "data": {
      "text/plain": [
       "(array([ 0,  1,  2,  3,  4,  5,  6,  7,  8,  9, 10, 11, 12, 13, 14, 15],\n",
       "       dtype=int64),\n",
       " array([18, 16, 22, 21, 21, 19, 21, 20, 14, 18, 21, 14, 16, 16, 17, 19],\n",
       "       dtype=int64))"
      ]
     },
     "execution_count": 405,
     "metadata": {},
     "output_type": "execute_result"
    }
   ],
   "source": [
    "batch = a.batch.numpy()\n",
    "x = a.x\n",
    "ele, count = np.unique(batch, return_counts=True)\n",
    "ele, count"
   ]
  },
  {
   "cell_type": "code",
   "execution_count": 406,
   "metadata": {},
   "outputs": [
    {
     "name": "stdout",
     "output_type": "stream",
     "text": [
      "torch.Size([18, 9])\n",
      "torch.Size([4, 9])\n",
      "torch.Size([16, 9])\n",
      "torch.Size([6, 9])\n",
      "torch.Size([22, 9])\n",
      "torch.Size([0, 9])\n",
      "torch.Size([21, 9])\n",
      "torch.Size([1, 9])\n",
      "torch.Size([21, 9])\n",
      "torch.Size([1, 9])\n",
      "torch.Size([19, 9])\n",
      "torch.Size([3, 9])\n",
      "torch.Size([21, 9])\n",
      "torch.Size([1, 9])\n",
      "torch.Size([20, 9])\n",
      "torch.Size([2, 9])\n",
      "torch.Size([14, 9])\n",
      "torch.Size([8, 9])\n",
      "torch.Size([18, 9])\n",
      "torch.Size([4, 9])\n",
      "torch.Size([21, 9])\n",
      "torch.Size([1, 9])\n",
      "torch.Size([14, 9])\n",
      "torch.Size([8, 9])\n",
      "torch.Size([16, 9])\n",
      "torch.Size([6, 9])\n",
      "torch.Size([16, 9])\n",
      "torch.Size([6, 9])\n",
      "torch.Size([17, 9])\n",
      "torch.Size([5, 9])\n",
      "torch.Size([19, 9])\n",
      "torch.Size([3, 9])\n"
     ]
    }
   ],
   "source": [
    "a = torch.empty(0)\n",
    "cur = 0\n",
    "\n",
    "for i, c in enumerate(count) :\n",
    "    gap = 22 - c \n",
    "    zeros = torch.zeros(gap, 9)\n",
    "    a = torch.cat((a, x[cur:cur + c,:], zeros)) if i != 0 else torch.cat((a, x[:c,:], zeros))\n",
    "    cur += c\n"
   ]
  },
  {
   "cell_type": "code",
   "execution_count": 394,
   "metadata": {},
   "outputs": [],
   "source": [
    "class Model(nn.Module) :\n",
    "    def __init__(self, dim_model, num_head, dropout) :\n",
    "        super(Model, self).__init__()\n",
    "        self.Embedding = nn.Embedding(20, dim_model)\n",
    "        self.Dropout = nn.Dropout(dropout)\n",
    "        self.GATConv1 = GATConv(dim_model, dim_model, heads=num_head,dropout=dropout)\n",
    "        self.GATConv2 = GATConv(dim_model * num_head, dim_model, dropout=dropout)\n",
    "        self.Linear = nn.Linear(dim_model, 3) \n",
    "\n",
    "\n",
    "    def forward(self, input) :\n",
    "        x, edge_index, edge_attr, batch = input.x, input.edge_index, input.edge_attr, input.batch \n",
    "        x = self.Dropout(self.Embedding(x))\n",
    "        x = self.GATConv1(x, edge_index)\n",
    "        x = F.leaky_relu(x)\n",
    "        x = self.GATConv2(x, edge_index)\n",
    "        x = F.leaky_relu(x)\n",
    "\n",
    "        out = self.Linear(x) \n",
    "        \n",
    "        return out\n"
   ]
  },
  {
   "cell_type": "code",
   "execution_count": 423,
   "metadata": {},
   "outputs": [],
   "source": [
    "class Encoder(nn.Module) :\n",
    "    def __init__(self, dim_model, num_head, dropout) :\n",
    "        super(Encoder, self).__init__()\n",
    "        self.dim_model = dim_model\n",
    "        self.GATConv1 = GATConv(train_data.num_features, dim_model, heads=num_head, dropout=dropout)\n",
    "        self.GATConv2 = GATConv(dim_model*num_head, dim_model, dropout=dropout)\n",
    "    \n",
    "    def forward(self, input) :\n",
    "        x, edge_index, edge_attr, batch, longest = input.x, input.edge_index, input.edge_attr, input.batch, input.y.size(1)\n",
    "        x = self.GATConv1(x, edge_index, edge_attr)\n",
    "        x = F.leaky_relu(x)\n",
    "        x = self.GATConv2(x, edge_index, edge_attr)\n",
    "        x = F.leaky_relu(x)\n",
    "        pool = global_mean_pool(x, batch)\n",
    "        out = torch.empty(0)\n",
    "        cur = 0 \n",
    "\n",
    "        for i, c in enumerate(count) :\n",
    "            zeros = torch.zeros(longest - c, self.dim_model)\n",
    "            out = torch.cat((out, x[cur : cur + c, :], zeros)) if i != 0 else torch.cat((out, x[:c, :], zeros))\n",
    "            cur += c\n",
    "        return out, pool"
   ]
  },
  {
   "cell_type": "code",
   "execution_count": 424,
   "metadata": {},
   "outputs": [],
   "source": [
    "class Decoder(nn.Module) :\n",
    "    def __init__(self, dim_model, dropout) :\n",
    "        super(Decoder, self).__init__()\n",
    "        self.GRU = nn.GRU(dim_model, dim_model)\n",
    "        "
   ]
  },
  {
   "cell_type": "code",
   "execution_count": 425,
   "metadata": {},
   "outputs": [],
   "source": [
    "encoder = Encoder(128, 2, 0.5)"
   ]
  },
  {
   "cell_type": "code",
   "execution_count": 427,
   "metadata": {},
   "outputs": [
    {
     "name": "stdout",
     "output_type": "stream",
     "text": [
      "out: torch.Size([352, 128])\n",
      "pool: torch.Size([16, 128])\n"
     ]
    }
   ],
   "source": [
    "for i in train_loader:\n",
    "    out, pool = encoder(i)\n",
    "    print(f'out: {out.shape}')\n",
    "    print(f'pool: {pool.shape}')\n",
    "    break"
   ]
  },
  {
   "cell_type": "code",
   "execution_count": 399,
   "metadata": {},
   "outputs": [],
   "source": [
    "model = Model(dim_model=128,\n",
    "              num_head=4,\n",
    "              dropout=0.5)\n",
    "criterion = nn.L1Loss()\n",
    "optimizer = torch.optim.Adam(model.parameters(), lr=0.001)"
   ]
  },
  {
   "cell_type": "code",
   "execution_count": 400,
   "metadata": {},
   "outputs": [
    {
     "ename": "RuntimeError",
     "evalue": "Expected tensor for argument #1 'indices' to have one of the following scalar types: Long, Int; but got torch.FloatTensor instead (while checking arguments for embedding)",
     "output_type": "error",
     "traceback": [
      "\u001b[1;31m---------------------------------------------------------------------------\u001b[0m",
      "\u001b[1;31mRuntimeError\u001b[0m                              Traceback (most recent call last)",
      "Cell \u001b[1;32mIn[400], line 5\u001b[0m\n\u001b[0;32m      2\u001b[0m epoch_loss \u001b[38;5;241m=\u001b[39m \u001b[38;5;241m0\u001b[39m \n\u001b[0;32m      4\u001b[0m \u001b[38;5;28;01mfor\u001b[39;00m data \u001b[38;5;129;01min\u001b[39;00m train_loader :\n\u001b[1;32m----> 5\u001b[0m     out \u001b[38;5;241m=\u001b[39m \u001b[43mmodel\u001b[49m\u001b[43m(\u001b[49m\u001b[43mdata\u001b[49m\u001b[43m)\u001b[49m \n\u001b[0;32m      6\u001b[0m     \u001b[38;5;66;03m# print(f'Data: {data}')\u001b[39;00m\n\u001b[0;32m      7\u001b[0m     \u001b[38;5;66;03m# print(f'y: {data.y}')\u001b[39;00m\n\u001b[0;32m      8\u001b[0m     loss \u001b[38;5;241m=\u001b[39m criterion(out, data\u001b[38;5;241m.\u001b[39my)\n",
      "File \u001b[1;32mc:\\Users\\DELL\\AppData\\Local\\Programs\\Python\\Python311\\Lib\\site-packages\\torch\\nn\\modules\\module.py:1518\u001b[0m, in \u001b[0;36mModule._wrapped_call_impl\u001b[1;34m(self, *args, **kwargs)\u001b[0m\n\u001b[0;32m   1516\u001b[0m     \u001b[38;5;28;01mreturn\u001b[39;00m \u001b[38;5;28mself\u001b[39m\u001b[38;5;241m.\u001b[39m_compiled_call_impl(\u001b[38;5;241m*\u001b[39margs, \u001b[38;5;241m*\u001b[39m\u001b[38;5;241m*\u001b[39mkwargs)  \u001b[38;5;66;03m# type: ignore[misc]\u001b[39;00m\n\u001b[0;32m   1517\u001b[0m \u001b[38;5;28;01melse\u001b[39;00m:\n\u001b[1;32m-> 1518\u001b[0m     \u001b[38;5;28;01mreturn\u001b[39;00m \u001b[38;5;28;43mself\u001b[39;49m\u001b[38;5;241;43m.\u001b[39;49m\u001b[43m_call_impl\u001b[49m\u001b[43m(\u001b[49m\u001b[38;5;241;43m*\u001b[39;49m\u001b[43margs\u001b[49m\u001b[43m,\u001b[49m\u001b[43m \u001b[49m\u001b[38;5;241;43m*\u001b[39;49m\u001b[38;5;241;43m*\u001b[39;49m\u001b[43mkwargs\u001b[49m\u001b[43m)\u001b[49m\n",
      "File \u001b[1;32mc:\\Users\\DELL\\AppData\\Local\\Programs\\Python\\Python311\\Lib\\site-packages\\torch\\nn\\modules\\module.py:1527\u001b[0m, in \u001b[0;36mModule._call_impl\u001b[1;34m(self, *args, **kwargs)\u001b[0m\n\u001b[0;32m   1522\u001b[0m \u001b[38;5;66;03m# If we don't have any hooks, we want to skip the rest of the logic in\u001b[39;00m\n\u001b[0;32m   1523\u001b[0m \u001b[38;5;66;03m# this function, and just call forward.\u001b[39;00m\n\u001b[0;32m   1524\u001b[0m \u001b[38;5;28;01mif\u001b[39;00m \u001b[38;5;129;01mnot\u001b[39;00m (\u001b[38;5;28mself\u001b[39m\u001b[38;5;241m.\u001b[39m_backward_hooks \u001b[38;5;129;01mor\u001b[39;00m \u001b[38;5;28mself\u001b[39m\u001b[38;5;241m.\u001b[39m_backward_pre_hooks \u001b[38;5;129;01mor\u001b[39;00m \u001b[38;5;28mself\u001b[39m\u001b[38;5;241m.\u001b[39m_forward_hooks \u001b[38;5;129;01mor\u001b[39;00m \u001b[38;5;28mself\u001b[39m\u001b[38;5;241m.\u001b[39m_forward_pre_hooks\n\u001b[0;32m   1525\u001b[0m         \u001b[38;5;129;01mor\u001b[39;00m _global_backward_pre_hooks \u001b[38;5;129;01mor\u001b[39;00m _global_backward_hooks\n\u001b[0;32m   1526\u001b[0m         \u001b[38;5;129;01mor\u001b[39;00m _global_forward_hooks \u001b[38;5;129;01mor\u001b[39;00m _global_forward_pre_hooks):\n\u001b[1;32m-> 1527\u001b[0m     \u001b[38;5;28;01mreturn\u001b[39;00m \u001b[43mforward_call\u001b[49m\u001b[43m(\u001b[49m\u001b[38;5;241;43m*\u001b[39;49m\u001b[43margs\u001b[49m\u001b[43m,\u001b[49m\u001b[43m \u001b[49m\u001b[38;5;241;43m*\u001b[39;49m\u001b[38;5;241;43m*\u001b[39;49m\u001b[43mkwargs\u001b[49m\u001b[43m)\u001b[49m\n\u001b[0;32m   1529\u001b[0m \u001b[38;5;28;01mtry\u001b[39;00m:\n\u001b[0;32m   1530\u001b[0m     result \u001b[38;5;241m=\u001b[39m \u001b[38;5;28;01mNone\u001b[39;00m\n",
      "Cell \u001b[1;32mIn[394], line 13\u001b[0m, in \u001b[0;36mModel.forward\u001b[1;34m(self, input)\u001b[0m\n\u001b[0;32m     11\u001b[0m \u001b[38;5;28;01mdef\u001b[39;00m \u001b[38;5;21mforward\u001b[39m(\u001b[38;5;28mself\u001b[39m, \u001b[38;5;28minput\u001b[39m) :\n\u001b[0;32m     12\u001b[0m     x, edge_index, edge_attr, batch \u001b[38;5;241m=\u001b[39m \u001b[38;5;28minput\u001b[39m\u001b[38;5;241m.\u001b[39mx, \u001b[38;5;28minput\u001b[39m\u001b[38;5;241m.\u001b[39medge_index, \u001b[38;5;28minput\u001b[39m\u001b[38;5;241m.\u001b[39medge_attr, \u001b[38;5;28minput\u001b[39m\u001b[38;5;241m.\u001b[39mbatch \n\u001b[1;32m---> 13\u001b[0m     x \u001b[38;5;241m=\u001b[39m \u001b[38;5;28mself\u001b[39m\u001b[38;5;241m.\u001b[39mDropout(\u001b[38;5;28;43mself\u001b[39;49m\u001b[38;5;241;43m.\u001b[39;49m\u001b[43mEmbedding\u001b[49m\u001b[43m(\u001b[49m\u001b[43mx\u001b[49m\u001b[43m)\u001b[49m)\n\u001b[0;32m     14\u001b[0m     x \u001b[38;5;241m=\u001b[39m \u001b[38;5;28mself\u001b[39m\u001b[38;5;241m.\u001b[39mGATConv1(x, edge_index)\n\u001b[0;32m     15\u001b[0m     x \u001b[38;5;241m=\u001b[39m F\u001b[38;5;241m.\u001b[39mleaky_relu(x)\n",
      "File \u001b[1;32mc:\\Users\\DELL\\AppData\\Local\\Programs\\Python\\Python311\\Lib\\site-packages\\torch\\nn\\modules\\module.py:1518\u001b[0m, in \u001b[0;36mModule._wrapped_call_impl\u001b[1;34m(self, *args, **kwargs)\u001b[0m\n\u001b[0;32m   1516\u001b[0m     \u001b[38;5;28;01mreturn\u001b[39;00m \u001b[38;5;28mself\u001b[39m\u001b[38;5;241m.\u001b[39m_compiled_call_impl(\u001b[38;5;241m*\u001b[39margs, \u001b[38;5;241m*\u001b[39m\u001b[38;5;241m*\u001b[39mkwargs)  \u001b[38;5;66;03m# type: ignore[misc]\u001b[39;00m\n\u001b[0;32m   1517\u001b[0m \u001b[38;5;28;01melse\u001b[39;00m:\n\u001b[1;32m-> 1518\u001b[0m     \u001b[38;5;28;01mreturn\u001b[39;00m \u001b[38;5;28;43mself\u001b[39;49m\u001b[38;5;241;43m.\u001b[39;49m\u001b[43m_call_impl\u001b[49m\u001b[43m(\u001b[49m\u001b[38;5;241;43m*\u001b[39;49m\u001b[43margs\u001b[49m\u001b[43m,\u001b[49m\u001b[43m \u001b[49m\u001b[38;5;241;43m*\u001b[39;49m\u001b[38;5;241;43m*\u001b[39;49m\u001b[43mkwargs\u001b[49m\u001b[43m)\u001b[49m\n",
      "File \u001b[1;32mc:\\Users\\DELL\\AppData\\Local\\Programs\\Python\\Python311\\Lib\\site-packages\\torch\\nn\\modules\\module.py:1527\u001b[0m, in \u001b[0;36mModule._call_impl\u001b[1;34m(self, *args, **kwargs)\u001b[0m\n\u001b[0;32m   1522\u001b[0m \u001b[38;5;66;03m# If we don't have any hooks, we want to skip the rest of the logic in\u001b[39;00m\n\u001b[0;32m   1523\u001b[0m \u001b[38;5;66;03m# this function, and just call forward.\u001b[39;00m\n\u001b[0;32m   1524\u001b[0m \u001b[38;5;28;01mif\u001b[39;00m \u001b[38;5;129;01mnot\u001b[39;00m (\u001b[38;5;28mself\u001b[39m\u001b[38;5;241m.\u001b[39m_backward_hooks \u001b[38;5;129;01mor\u001b[39;00m \u001b[38;5;28mself\u001b[39m\u001b[38;5;241m.\u001b[39m_backward_pre_hooks \u001b[38;5;129;01mor\u001b[39;00m \u001b[38;5;28mself\u001b[39m\u001b[38;5;241m.\u001b[39m_forward_hooks \u001b[38;5;129;01mor\u001b[39;00m \u001b[38;5;28mself\u001b[39m\u001b[38;5;241m.\u001b[39m_forward_pre_hooks\n\u001b[0;32m   1525\u001b[0m         \u001b[38;5;129;01mor\u001b[39;00m _global_backward_pre_hooks \u001b[38;5;129;01mor\u001b[39;00m _global_backward_hooks\n\u001b[0;32m   1526\u001b[0m         \u001b[38;5;129;01mor\u001b[39;00m _global_forward_hooks \u001b[38;5;129;01mor\u001b[39;00m _global_forward_pre_hooks):\n\u001b[1;32m-> 1527\u001b[0m     \u001b[38;5;28;01mreturn\u001b[39;00m \u001b[43mforward_call\u001b[49m\u001b[43m(\u001b[49m\u001b[38;5;241;43m*\u001b[39;49m\u001b[43margs\u001b[49m\u001b[43m,\u001b[49m\u001b[43m \u001b[49m\u001b[38;5;241;43m*\u001b[39;49m\u001b[38;5;241;43m*\u001b[39;49m\u001b[43mkwargs\u001b[49m\u001b[43m)\u001b[49m\n\u001b[0;32m   1529\u001b[0m \u001b[38;5;28;01mtry\u001b[39;00m:\n\u001b[0;32m   1530\u001b[0m     result \u001b[38;5;241m=\u001b[39m \u001b[38;5;28;01mNone\u001b[39;00m\n",
      "File \u001b[1;32mc:\\Users\\DELL\\AppData\\Local\\Programs\\Python\\Python311\\Lib\\site-packages\\torch\\nn\\modules\\sparse.py:162\u001b[0m, in \u001b[0;36mEmbedding.forward\u001b[1;34m(self, input)\u001b[0m\n\u001b[0;32m    161\u001b[0m \u001b[38;5;28;01mdef\u001b[39;00m \u001b[38;5;21mforward\u001b[39m(\u001b[38;5;28mself\u001b[39m, \u001b[38;5;28minput\u001b[39m: Tensor) \u001b[38;5;241m-\u001b[39m\u001b[38;5;241m>\u001b[39m Tensor:\n\u001b[1;32m--> 162\u001b[0m     \u001b[38;5;28;01mreturn\u001b[39;00m \u001b[43mF\u001b[49m\u001b[38;5;241;43m.\u001b[39;49m\u001b[43membedding\u001b[49m\u001b[43m(\u001b[49m\n\u001b[0;32m    163\u001b[0m \u001b[43m        \u001b[49m\u001b[38;5;28;43minput\u001b[39;49m\u001b[43m,\u001b[49m\u001b[43m \u001b[49m\u001b[38;5;28;43mself\u001b[39;49m\u001b[38;5;241;43m.\u001b[39;49m\u001b[43mweight\u001b[49m\u001b[43m,\u001b[49m\u001b[43m \u001b[49m\u001b[38;5;28;43mself\u001b[39;49m\u001b[38;5;241;43m.\u001b[39;49m\u001b[43mpadding_idx\u001b[49m\u001b[43m,\u001b[49m\u001b[43m \u001b[49m\u001b[38;5;28;43mself\u001b[39;49m\u001b[38;5;241;43m.\u001b[39;49m\u001b[43mmax_norm\u001b[49m\u001b[43m,\u001b[49m\n\u001b[0;32m    164\u001b[0m \u001b[43m        \u001b[49m\u001b[38;5;28;43mself\u001b[39;49m\u001b[38;5;241;43m.\u001b[39;49m\u001b[43mnorm_type\u001b[49m\u001b[43m,\u001b[49m\u001b[43m \u001b[49m\u001b[38;5;28;43mself\u001b[39;49m\u001b[38;5;241;43m.\u001b[39;49m\u001b[43mscale_grad_by_freq\u001b[49m\u001b[43m,\u001b[49m\u001b[43m \u001b[49m\u001b[38;5;28;43mself\u001b[39;49m\u001b[38;5;241;43m.\u001b[39;49m\u001b[43msparse\u001b[49m\u001b[43m)\u001b[49m\n",
      "File \u001b[1;32mc:\\Users\\DELL\\AppData\\Local\\Programs\\Python\\Python311\\Lib\\site-packages\\torch\\nn\\functional.py:2233\u001b[0m, in \u001b[0;36membedding\u001b[1;34m(input, weight, padding_idx, max_norm, norm_type, scale_grad_by_freq, sparse)\u001b[0m\n\u001b[0;32m   2227\u001b[0m     \u001b[38;5;66;03m# Note [embedding_renorm set_grad_enabled]\u001b[39;00m\n\u001b[0;32m   2228\u001b[0m     \u001b[38;5;66;03m# XXX: equivalent to\u001b[39;00m\n\u001b[0;32m   2229\u001b[0m     \u001b[38;5;66;03m# with torch.no_grad():\u001b[39;00m\n\u001b[0;32m   2230\u001b[0m     \u001b[38;5;66;03m#   torch.embedding_renorm_\u001b[39;00m\n\u001b[0;32m   2231\u001b[0m     \u001b[38;5;66;03m# remove once script supports set_grad_enabled\u001b[39;00m\n\u001b[0;32m   2232\u001b[0m     _no_grad_embedding_renorm_(weight, \u001b[38;5;28minput\u001b[39m, max_norm, norm_type)\n\u001b[1;32m-> 2233\u001b[0m \u001b[38;5;28;01mreturn\u001b[39;00m \u001b[43mtorch\u001b[49m\u001b[38;5;241;43m.\u001b[39;49m\u001b[43membedding\u001b[49m\u001b[43m(\u001b[49m\u001b[43mweight\u001b[49m\u001b[43m,\u001b[49m\u001b[43m \u001b[49m\u001b[38;5;28;43minput\u001b[39;49m\u001b[43m,\u001b[49m\u001b[43m \u001b[49m\u001b[43mpadding_idx\u001b[49m\u001b[43m,\u001b[49m\u001b[43m \u001b[49m\u001b[43mscale_grad_by_freq\u001b[49m\u001b[43m,\u001b[49m\u001b[43m \u001b[49m\u001b[43msparse\u001b[49m\u001b[43m)\u001b[49m\n",
      "\u001b[1;31mRuntimeError\u001b[0m: Expected tensor for argument #1 'indices' to have one of the following scalar types: Long, Int; but got torch.FloatTensor instead (while checking arguments for embedding)"
     ]
    }
   ],
   "source": [
    "for epoch in range(1, 30) :\n",
    "    epoch_loss = 0 \n",
    "\n",
    "    for data in train_loader :\n",
    "        out = model(data) \n",
    "        # print(f'Data: {data}')\n",
    "        # print(f'y: {data.y}')\n",
    "        loss = criterion(out, data.y)\n",
    "\n",
    "        loss.backward()\n",
    "        optimizer.step()\n",
    "        optimizer.zero_grad()\n",
    "        epoch_loss += loss.item()\n",
    "\n",
    "    print(f'Epoch {epoch}: {epoch_loss / len(train_loader)}')\n",
    "    epoch_loss = 0"
   ]
  },
  {
   "cell_type": "code",
   "execution_count": null,
   "metadata": {},
   "outputs": [],
   "source": []
  },
  {
   "cell_type": "code",
   "execution_count": null,
   "metadata": {},
   "outputs": [],
   "source": []
  }
 ],
 "metadata": {
  "kernelspec": {
   "display_name": "Python 3",
   "language": "python",
   "name": "python3"
  },
  "language_info": {
   "codemirror_mode": {
    "name": "ipython",
    "version": 3
   },
   "file_extension": ".py",
   "mimetype": "text/x-python",
   "name": "python",
   "nbconvert_exporter": "python",
   "pygments_lexer": "ipython3",
   "version": "3.11.4"
  }
 },
 "nbformat": 4,
 "nbformat_minor": 2
}
