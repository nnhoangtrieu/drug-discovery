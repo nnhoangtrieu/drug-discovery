{
 "cells": [
  {
   "cell_type": "code",
   "execution_count": 19,
   "metadata": {},
   "outputs": [],
   "source": [
    "import pandas as pd\n",
    "import rdkit\n",
    "from rdkit.Chem import MolFromSmiles as mol "
   ]
  },
  {
   "cell_type": "code",
   "execution_count": 34,
   "metadata": {},
   "outputs": [],
   "source": [
    "def get_smi(smi_path) :\n",
    "    smi_list = []\n",
    "    i = 0\n",
    "    with open(smi_path, 'r') as file :\n",
    "        for smi in file :\n",
    "            if rdkit.Chem.MolFromSmiles(smi) is None :\n",
    "                if len(smi_list) == 0 :\n",
    "                    continue \n",
    "                smi_list.append(smi_list[i-1])\n",
    "                i += 1 \n",
    "                continue \n",
    "            smi_list.append(smi)\n",
    "            i += 1\n",
    "    \n",
    "    smi_list = [smi[:-1] for smi in smi_list]\n",
    "    smi_list = [smi + 'E' for smi in smi_list]\n",
    "    # smi_list = replace_atom(smi_list)\n",
    "    return smi_list\n",
    "        "
   ]
  },
  {
   "cell_type": "code",
   "execution_count": 35,
   "metadata": {},
   "outputs": [],
   "source": [
    "a = get_smi('./data/ADAGRASIB_UNIQUE_SMILES.txt')"
   ]
  },
  {
   "cell_type": "code",
   "execution_count": 36,
   "metadata": {},
   "outputs": [
    {
     "data": {
      "text/plain": [
       "['C[N]1C=C(C=N1)B2OC(C)(C)C(C)(C)O2E',\n",
       " 'CC1=CC=C(C=C1)[S](=O)(=O)OCC(F)(F)FE',\n",
       " 'N[S](=O)(=O)C1=CC=C(C=C1)C2=CC=C(O2)C=OE']"
      ]
     },
     "execution_count": 36,
     "metadata": {},
     "output_type": "execute_result"
    }
   ],
   "source": [
    "a[:3]"
   ]
  },
  {
   "cell_type": "code",
   "execution_count": null,
   "metadata": {},
   "outputs": [],
   "source": []
  }
 ],
 "metadata": {
  "kernelspec": {
   "display_name": "Python 3",
   "language": "python",
   "name": "python3"
  },
  "language_info": {
   "codemirror_mode": {
    "name": "ipython",
    "version": 3
   },
   "file_extension": ".py",
   "mimetype": "text/x-python",
   "name": "python",
   "nbconvert_exporter": "python",
   "pygments_lexer": "ipython3",
   "version": "3.11.4"
  }
 },
 "nbformat": 4,
 "nbformat_minor": 2
}
