{
 "cells": [
  {
   "cell_type": "code",
   "execution_count": 5,
   "metadata": {},
   "outputs": [],
   "source": [
    "import pandas as pd\n",
    "import numpy as np"
   ]
  },
  {
   "cell_type": "code",
   "execution_count": 28,
   "metadata": {},
   "outputs": [],
   "source": [
    "df = pd.read_csv('./data/ZINC_250k.csv')\n",
    "smi_list = df['smiles'].to_numpy()\n",
    "len_list = [len(smi) for smi in smi_list]"
   ]
  },
  {
   "cell_type": "code",
   "execution_count": 36,
   "metadata": {},
   "outputs": [],
   "source": [
    "with open('./data/ZINC_SHORT.txt', 'w') as file :\n",
    "    for smi in smi_list :\n",
    "        if len(smi) >= 26 and len(smi) <= 30: \n",
    "            file.write(smi)"
   ]
  },
  {
   "cell_type": "code",
   "execution_count": 25,
   "metadata": {},
   "outputs": [
    {
     "ename": "TypeError",
     "evalue": "'<' not supported between instances of 'float' and 'str'",
     "output_type": "error",
     "traceback": [
      "\u001b[1;31m---------------------------------------------------------------------------\u001b[0m",
      "\u001b[1;31mTypeError\u001b[0m                                 Traceback (most recent call last)",
      "Cell \u001b[1;32mIn[25], line 1\u001b[0m\n\u001b[1;32m----> 1\u001b[0m unique_elements, counts \u001b[38;5;241m=\u001b[39m \u001b[43mnp\u001b[49m\u001b[38;5;241;43m.\u001b[39;49m\u001b[43munique\u001b[49m\u001b[43m(\u001b[49m\u001b[43mselection\u001b[49m\u001b[43m,\u001b[49m\u001b[43m \u001b[49m\u001b[43mreturn_counts\u001b[49m\u001b[38;5;241;43m=\u001b[39;49m\u001b[38;5;28;43;01mTrue\u001b[39;49;00m\u001b[43m)\u001b[49m\n",
      "File \u001b[1;32mc:\\Users\\DELL\\AppData\\Local\\Programs\\Python\\Python311\\Lib\\site-packages\\numpy\\lib\\arraysetops.py:274\u001b[0m, in \u001b[0;36munique\u001b[1;34m(ar, return_index, return_inverse, return_counts, axis, equal_nan)\u001b[0m\n\u001b[0;32m    272\u001b[0m ar \u001b[38;5;241m=\u001b[39m np\u001b[38;5;241m.\u001b[39masanyarray(ar)\n\u001b[0;32m    273\u001b[0m \u001b[38;5;28;01mif\u001b[39;00m axis \u001b[38;5;129;01mis\u001b[39;00m \u001b[38;5;28;01mNone\u001b[39;00m:\n\u001b[1;32m--> 274\u001b[0m     ret \u001b[38;5;241m=\u001b[39m \u001b[43m_unique1d\u001b[49m\u001b[43m(\u001b[49m\u001b[43mar\u001b[49m\u001b[43m,\u001b[49m\u001b[43m \u001b[49m\u001b[43mreturn_index\u001b[49m\u001b[43m,\u001b[49m\u001b[43m \u001b[49m\u001b[43mreturn_inverse\u001b[49m\u001b[43m,\u001b[49m\u001b[43m \u001b[49m\u001b[43mreturn_counts\u001b[49m\u001b[43m,\u001b[49m\u001b[43m \u001b[49m\n\u001b[0;32m    275\u001b[0m \u001b[43m                    \u001b[49m\u001b[43mequal_nan\u001b[49m\u001b[38;5;241;43m=\u001b[39;49m\u001b[43mequal_nan\u001b[49m\u001b[43m)\u001b[49m\n\u001b[0;32m    276\u001b[0m     \u001b[38;5;28;01mreturn\u001b[39;00m _unpack_tuple(ret)\n\u001b[0;32m    278\u001b[0m \u001b[38;5;66;03m# axis was specified and not None\u001b[39;00m\n",
      "File \u001b[1;32mc:\\Users\\DELL\\AppData\\Local\\Programs\\Python\\Python311\\Lib\\site-packages\\numpy\\lib\\arraysetops.py:336\u001b[0m, in \u001b[0;36m_unique1d\u001b[1;34m(ar, return_index, return_inverse, return_counts, equal_nan)\u001b[0m\n\u001b[0;32m    334\u001b[0m     aux \u001b[38;5;241m=\u001b[39m ar[perm]\n\u001b[0;32m    335\u001b[0m \u001b[38;5;28;01melse\u001b[39;00m:\n\u001b[1;32m--> 336\u001b[0m     \u001b[43mar\u001b[49m\u001b[38;5;241;43m.\u001b[39;49m\u001b[43msort\u001b[49m\u001b[43m(\u001b[49m\u001b[43m)\u001b[49m\n\u001b[0;32m    337\u001b[0m     aux \u001b[38;5;241m=\u001b[39m ar\n\u001b[0;32m    338\u001b[0m mask \u001b[38;5;241m=\u001b[39m np\u001b[38;5;241m.\u001b[39mempty(aux\u001b[38;5;241m.\u001b[39mshape, dtype\u001b[38;5;241m=\u001b[39mnp\u001b[38;5;241m.\u001b[39mbool_)\n",
      "\u001b[1;31mTypeError\u001b[0m: '<' not supported between instances of 'float' and 'str'"
     ]
    }
   ],
   "source": [
    "unique_elements, counts = np.unique(selection, return_counts=True)"
   ]
  },
  {
   "cell_type": "code",
   "execution_count": 16,
   "metadata": {},
   "outputs": [
    {
     "name": "stdout",
     "output_type": "stream",
     "text": [
      "10 1\n",
      "11 2\n",
      "12 4\n",
      "13 4\n",
      "14 13\n",
      "15 19\n",
      "16 44\n",
      "17 71\n",
      "18 93\n",
      "19 178\n",
      "20 241\n",
      "21 341\n",
      "22 388\n",
      "23 537\n",
      "24 662\n",
      "25 855\n",
      "26 1099\n",
      "27 1407\n",
      "28 1751\n",
      "29 2088\n",
      "30 2566\n",
      "31 3001\n",
      "32 3578\n",
      "33 4531\n",
      "34 5026\n",
      "35 5835\n",
      "36 6448\n",
      "37 7280\n",
      "38 8224\n",
      "39 8929\n",
      "40 9649\n",
      "41 10334\n",
      "42 10877\n",
      "43 11257\n",
      "44 11337\n",
      "45 11503\n",
      "46 11306\n",
      "47 11108\n",
      "48 10558\n",
      "49 10052\n",
      "50 9318\n",
      "51 8583\n",
      "52 7856\n",
      "53 7004\n",
      "54 6122\n",
      "55 5403\n",
      "56 4784\n",
      "57 4159\n",
      "58 3526\n",
      "59 3171\n",
      "60 2601\n",
      "61 2302\n",
      "62 1958\n",
      "63 1631\n",
      "64 1358\n",
      "65 1143\n",
      "66 965\n",
      "67 784\n",
      "68 607\n",
      "69 517\n",
      "70 412\n",
      "71 341\n",
      "72 252\n",
      "73 244\n",
      "74 164\n",
      "75 144\n",
      "76 119\n",
      "77 106\n",
      "78 93\n",
      "79 73\n",
      "80 78\n",
      "81 70\n",
      "82 55\n",
      "83 40\n",
      "84 30\n",
      "85 40\n",
      "86 37\n",
      "87 21\n",
      "88 18\n",
      "89 24\n",
      "90 12\n",
      "91 14\n",
      "92 8\n",
      "93 11\n",
      "94 12\n",
      "95 14\n",
      "96 8\n",
      "97 2\n",
      "98 4\n",
      "99 5\n",
      "101 4\n",
      "102 1\n",
      "103 2\n",
      "104 2\n",
      "106 2\n",
      "107 1\n",
      "109 2\n",
      "110 1\n"
     ]
    }
   ],
   "source": [
    "for u, c in zip(unique_elements, counts) :\n",
    "    print(u, c)"
   ]
  },
  {
   "cell_type": "code",
   "execution_count": null,
   "metadata": {},
   "outputs": [],
   "source": []
  }
 ],
 "metadata": {
  "kernelspec": {
   "display_name": "Python 3",
   "language": "python",
   "name": "python3"
  },
  "language_info": {
   "codemirror_mode": {
    "name": "ipython",
    "version": 3
   },
   "file_extension": ".py",
   "mimetype": "text/x-python",
   "name": "python",
   "nbconvert_exporter": "python",
   "pygments_lexer": "ipython3",
   "version": "3.11.4"
  }
 },
 "nbformat": 4,
 "nbformat_minor": 2
}
